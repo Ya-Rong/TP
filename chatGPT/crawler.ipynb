{
 "cells": [
  {
   "cell_type": "markdown",
   "id": "63a80594",
   "metadata": {},
   "source": [
    "Python爬取「科技新報」和「科技報橘」網站，並進一步進行斷詞和共現性分析"
   ]
  },
  {
   "cell_type": "code",
   "execution_count": null,
   "id": "d544b1ea",
   "metadata": {},
   "outputs": [],
   "source": [
    "# 載入必要的Python庫\n",
    "# 要進行網站爬蟲，需要使用Python中的requests、BeautifulSoup和re庫。要進行斷詞和共現性分析，\n",
    "# 需要使用jieba、pandas、numpy和networkx庫。可以使用以下代碼載入這些庫：\n",
    "import requests\n",
    "from bs4 import BeautifulSoup\n",
    "import re\n",
    "import jieba\n",
    "import pandas as pd\n",
    "import numpy as np\n",
    "import networkx as nx\n",
    "import matplotlib.pyplot as plt"
   ]
  },
  {
   "cell_type": "code",
   "execution_count": null,
   "id": "8852f65c",
   "metadata": {},
   "outputs": [],
   "source": [
    "# 獲取網站數據\n",
    "# 使用requests庫獲取網站數據。以下是一個簡單的例子：\n",
    "url_list = ['https://technews.tw/', 'https://buzzorange.com/techorange/']\n",
    "\n",
    "for url in url_list:\n",
    "    html = requests.get(url).text\n",
    "    soup = BeautifulSoup(html, 'html.parser')\n",
    "    news_titles = soup.find_all('h1', class_='entry-title')\n",
    "\n",
    "    for title in news_titles:\n",
    "        print(title.text)\n",
    "# 在上述例子中，我們使用了requests庫獲取了科技新報和動區動趨網站的HTML代碼。\n",
    "# 然後，我們使用BeautifulSoup庫解析HTML代碼並找到所有新聞標題。\n",
    "# 最後，我們使用for迴圈遍歷新聞標題，並將它們打印到終端。"
   ]
  },
  {
   "cell_type": "code",
   "execution_count": null,
   "id": "f24c508f",
   "metadata": {},
   "outputs": [],
   "source": [
    "# 斷詞\n",
    "# 使用jieba庫對新聞標題進行斷詞。以下是一個簡單的例子：\n",
    "url_list = ['https://technews.tw/', 'https://buzzorange.com/techorange/']\n",
    "keywords = []\n",
    "\n",
    "for url in url_list:\n",
    "    html = requests.get(url).text\n",
    "    soup = BeautifulSoup(html, 'html.parser')\n",
    "    news_titles = soup.find_all('h1', class_='entry-title')\n",
    "\n",
    "    for title in news_titles:\n",
    "        words = jieba.lcut(title.text)\n",
    "        keywords += [word for word in words if len(word) > 1 and re.match('[\\u4e00-\\u9fa5]', word)]\n",
    "\n",
    "print(keywords)\n",
    "# 在上述例子中，我們使用了jieba庫對所有新聞標題進行了斷詞。\n",
    "# 我們排除了單個漢字和單個英文字母，並將結果存儲在名為“keywords”的列表中。"
   ]
  },
  {
   "cell_type": "markdown",
   "id": "a1843aeb",
   "metadata": {},
   "source": [
    "### 篩選科技相關詞彙\n",
    "### 使用正則表達式篩選與科技領域相關的詞彙。以下是一個簡單的例子："
   ]
  },
  {
   "cell_type": "markdown",
   "id": "7e88de9d",
   "metadata": {},
   "source": [
    "當我們已經斷詞後，我們可以進一步使用正則表達式篩選出與科技相關的詞彙，\n",
    "例如「人工智慧」、「區塊鏈」、「物聯網」等。\n",
    "篩選詞彙的方法可以使用正則表達式或是定義一個包含科技相關詞彙的詞典，然後進行匹配。\n",
    "\n",
    "接下來，我們可以使用pandas庫來計算詞彙的出現頻率，然後將其轉換為一個稀疏矩陣。\n",
    "這可以使用pandas的get_dummies函數實現，該函數會將詞彙轉換為一個稀疏矩陣。\n",
    "然後，我們可以使用numpy庫的dot函數計算稀疏矩陣的共現性矩陣。\n",
    "\n",
    "最後，我們可以使用networkx庫繪製詞彙共現性網絡。\n",
    "使用networkx庫可以方便地繪製詞彙共現性網絡。\n",
    "我們可以使用共現性矩陣來創建一個加權圖，然後使用networkx庫的draw函數將圖繪製出來。\n",
    "我們還可以對圖形進行一些額外的調整，例如調整節點大小和顏色，以及調整邊線的粗細和顏色等。\n",
    "最後，我們可以使用matplotlib庫來顯示網絡圖。\n"
   ]
  },
  {
   "cell_type": "code",
   "execution_count": 2,
   "id": "8b0b1418",
   "metadata": {},
   "outputs": [
    {
     "name": "stderr",
     "output_type": "stream",
     "text": [
      "C:\\Users\\happy\\AppData\\Local\\Temp\\ipykernel_15600\\3328464311.py:37: FutureWarning: The default dtype for empty Series will be 'object' instead of 'float64' in a future version. Specify a dtype explicitly to silence this warning.\n",
      "  df = pd.get_dummies(tokens)\n"
     ]
    },
    {
     "data": {
      "image/png": "[encoded data removed]",
      "text/plain": [
       "<Figure size 432x288 with 1 Axes>"
      ]
     },
     "metadata": {},
     "output_type": "display_data"
    }
   ],
   "source": [
    "import requests\n",
    "from bs4 import BeautifulSoup\n",
    "import jieba\n",
    "import re\n",
    "import pandas as pd\n",
    "import numpy as np\n",
    "import networkx as nx\n",
    "import matplotlib.pyplot as plt\n",
    "\n",
    "# 爬取科技新報網站\n",
    "url1 = 'https://technews.tw/'\n",
    "response1 = requests.get(url1)\n",
    "soup1 = BeautifulSoup(response1.text, 'html.parser')\n",
    "news1 = soup1.select('h1.entry-title > a')[:10]  # 取前10筆新聞\n",
    "\n",
    "# 爬取科技報橘網站\n",
    "url2 = 'https://buzzorange.com/techorange/'\n",
    "response2 = requests.get(url2)\n",
    "soup2 = BeautifulSoup(response2.text, 'html.parser')\n",
    "news2 = soup2.select('h4.entry-title > a')[:10]  # 取前10筆新聞\n",
    "\n",
    "# 合併新聞標題\n",
    "news = [n.text for n in news1] + [n.text for n in news2]\n",
    "\n",
    "# 定義科技相關詞彙\n",
    "tech_words = ['人工智慧', '機器學習', '區塊鏈', '物聯網', '雲端運算', '大數據', '虛擬實境']\n",
    "\n",
    "# 篩選科技相關詞彙並斷詞\n",
    "tokens = []\n",
    "for n in news:\n",
    "    words = jieba.cut(n)\n",
    "    for w in words:\n",
    "        if re.match('.*[\\u4e00-\\u9fa5]+.*', w) and w in tech_words:\n",
    "            tokens.append(w)\n",
    "\n",
    "# 計算詞頻並轉換為稀疏矩陣\n",
    "df = pd.get_dummies(tokens)\n",
    "co_occurrence = np.dot(df.T, df)\n",
    "\n",
    "# 繪製共現性網絡圖\n",
    "G = nx.Graph()\n",
    "for i, word1 in enumerate(df.columns):\n",
    "    for j, word2 in enumerate(df.columns):\n",
    "        if co_occurrence[i, j] > 0:\n",
    "            G.add_edge(word1, word2, weight=co_occurrence[i, j])\n",
    "\n",
    "# 調整節點大小和顏色，以及邊線的粗細和顏色\n",
    "node_size = [df[word].sum()*10 for word in df.columns]\n",
    "node_color = [np.random.rand(3,) for i in range(len(df.columns))]\n",
    "edge_width = [d['weight']*0.2 for (u, v, d) in G.edges(data=True)]\n",
    "edge_color = [np.random.rand(3,) for i in range(len(G.edges))]\n",
    "\n",
    "# 繪製圖形\n",
    "pos = nx.spring_layout(G, k=0.3, iterations=50)\n",
    "nx.draw_networkx_nodes(G, pos, node_size=node_size, node_color=node_color, alpha=0.7)\n",
    "nx.draw_networkx_edges(G, pos, width=edge_width, edge_color=edge_color, alpha=0.5)\n",
    "nx.draw_networkx_labels(G, pos, font_size=12, font_family='SimHei', font_weight='bold', alpha=0.8)\n",
    "plt.axis('off')\n",
    "plt.show()"
   ]
  },
  {
   "cell_type": "markdown",
   "id": "b0f08ba1",
   "metadata": {},
   "source": [
    "#### 繪製圖形\n",
    "\n",
    "這段程式碼會繪製一個圖形，該圖形呈現科技相關詞彙的共現性分析結果，\n",
    "其中每個節點表示一個詞彙，節點的大小和顏色代表該詞彙在新聞標題中出現的頻率和其所屬的科技領域，\n",
    "邊線的粗細和顏色則代表兩個詞彙之間的共現頻率。\n",
    "該圖形可以幫助我們了解科技相關詞彙之間的關聯性，進而發現一些有趣的趨勢和現象。"
   ]
  },
  {
   "cell_type": "markdown",
   "id": "9d882ceb",
   "metadata": {},
   "source": [
    "網站的 HTML 結構有變化：網站可能在更新後更改了 HTML 結構或者 class 名稱，這樣程式碼就無法正確地解析出新聞標題。\n",
    "\n",
    "網站有防爬機制：為了防止網站被爬蟲爬取，網站可能會增加一些防爬機制，\n",
    "例如檢測 HTTP 請求頭信息或者設置 Cookie 驗證機制。\n",
    "如果你沒有處理這些防爬機制，那麼爬蟲就無法正確地獲取網頁內容。\n",
    "\n",
    "Python 程式碼中的語法或者庫有錯誤：如果你的程式碼中有語法或者庫的錯誤，那麼程式就無法正確地運行。\n",
    "\n",
    "如果你遇到了無法運行程式碼的問題，可以嘗試檢查以上三點，並且搜尋相關的解決方案。\n",
    "此外，建議可以逐步地測試程式碼，從爬取網頁內容開始，逐步確認每一個步驟是否正確，以便找到錯誤的原因和解決方案。"
   ]
  },
  {
   "cell_type": "markdown",
   "id": "c65d7164",
   "metadata": {},
   "source": [
    "如果你的程式碼沒有出現任何 error，但是仍然無法正常運行，可能有以下原因：\n",
    "\n",
    "網頁的解析方式有誤：網頁可能是動態生成的，而你使用的是靜態爬蟲，因此無法獲取到完整的網頁內容。\n",
    "這種情況下，你需要使用動態爬蟲來獲取網頁內容。\n",
    "\n",
    "程式碼中的邏輯錯誤：即使程式碼沒有出現 error，也有可能存在邏輯錯誤，導致程式無法正確運行。\n",
    "這種情況下，你需要檢查程式碼中每一個步驟是否正確，以及變數是否正確命名和使用。\n",
    "\n",
    "網頁的讀取時間過長：有些網頁可能需要較長的時間才能夠完全加載，\n",
    "如果你的程式碼沒有等待網頁完全加載就開始解析，那麼就無法獲取到完整的網頁內容。\n",
    "這種情況下，你可以使用 Selenium 等工具來模擬人的操作，等待網頁完全加載後再進行解析。\n",
    "\n",
    "總之，如果你的程式碼沒有出現任何 error，但是仍然無法正常運行，\n",
    "那麼你需要逐步檢查程式碼中的每一個步驟，以及可能存在的邏輯錯誤、\n",
    "網頁解析方式、網頁讀取時間等問題，以便找到錯誤的原因和解決方案。"
   ]
  },
  {
   "cell_type": "code",
   "execution_count": null,
   "id": "b3b670f7",
   "metadata": {},
   "outputs": [],
   "source": []
  },
  {
   "cell_type": "code",
   "execution_count": 3,
   "id": "f43a76e8",
   "metadata": {},
   "outputs": [],
   "source": [
    "import requests\n",
    "from bs4 import BeautifulSoup\n",
    "import jieba\n",
    "import re\n",
    "import pandas as pd\n",
    "import numpy as np\n",
    "import networkx as nx\n",
    "import matplotlib.pyplot as plt"
   ]
  },
  {
   "cell_type": "code",
   "execution_count": 18,
   "id": "a903ba40",
   "metadata": {},
   "outputs": [
    {
     "data": {
      "text/plain": [
       "[<a href=\"https://technews.tw/2023/03/23/facebook-accounts-hijacked-by-new-malicious-chatgpt-chrome-extension/\" rel=\"bookmark\" title=\"ChatGPT 擴充功能夾帶惡意外掛，竊取 Facebook 帳號\">ChatGPT 擴充功能夾帶惡意外掛，竊取 Facebook 帳號</a>,\n",
       " <a href=\"https://technews.tw/2023/03/23/deutsche-telekom-review/\" rel=\"bookmark\" title=\"憂與華為過度密切，德政府擬對德國電信進行審查\">憂與華為過度密切，德政府擬對德國電信進行審查</a>,\n",
       " <a href=\"https://finance.technews.tw/2023/03/23/gas-electricity/\" rel=\"bookmark\" title=\"全台首座燃氣汽電共生廠商轉！奇美實現 80% 用電自主供給\">全台首座燃氣汽電共生廠商轉！奇美實現 80% 用電自主供給</a>,\n",
       " <a href=\"https://technews.tw/2023/03/23/indeed-to-lay-off-2200-employees/\" rel=\"bookmark\" title=\"春江水暖鴨先知？求職網站 Indeed 宣布裁員 2,200人\">春江水暖鴨先知？求職網站 Indeed 宣布裁員 2,200人</a>,\n",
       " <a href=\"https://technews.tw/2023/03/23/ios-17/\" rel=\"bookmark\" title=\"iOS 17 何時亮相？\">iOS 17 何時亮相？</a>,\n",
       " <a href=\"https://finance.technews.tw/2023/03/23/terminal-interest-rate/\" rel=\"bookmark\" title=\"聯準會終端利率峰值將現！法人：美國百大債後市利好\">聯準會終端利率峰值將現！法人：美國百大債後市利好</a>,\n",
       " <a href=\"https://finance.technews.tw/2023/03/23/yellen-tells-senators-bank-deposits-is-not-being-discussed/\" rel=\"bookmark\" title=\"葉倫無意為銀行存款提供全面擔保，美國中小型銀行不滿\">葉倫無意為銀行存款提供全面擔保，美國中小型銀行不滿</a>,\n",
       " <a href=\"https://technews.tw/2023/03/23/chinas-development-of-chatrbots-hits-a-wall/\" rel=\"bookmark\" title=\"晶片戰與審查制度夾擊，中國科技巨擘發展聊天機器人遇阻\">晶片戰與審查制度夾擊，中國科技巨擘發展聊天機器人遇阻</a>,\n",
       " <a href=\"https://technews.tw/2023/03/23/openai-tech-gives-microsofts-bing-a-boost-in-search-battle-with-google/\" rel=\"bookmark\" title=\"OpenAI 助攻、微軟 Bing 變夯，迎戰 Google\">OpenAI 助攻、微軟 Bing 變夯，迎戰 Google</a>,\n",
       " <a href=\"https://technews.tw/2023/03/23/apple-employee-can-not-work-from-home/\" rel=\"bookmark\" title=\"蘋果再度出手打擊遠距工作，追蹤員工出勤紀錄\">蘋果再度出手打擊遠距工作，追蹤員工出勤紀錄</a>]"
      ]
     },
     "execution_count": 18,
     "metadata": {},
     "output_type": "execute_result"
    }
   ],
   "source": [
    "# 爬取科技新報網站\n",
    "url1 = 'https://technews.tw/'\n",
    "response1 = requests.get(url1)\n",
    "soup1 = BeautifulSoup(response1.text, 'html.parser')\n",
    "news1 = soup1.select('h1.entry-title > a')[:10]  # 取前10筆新聞\n",
    "news1"
   ]
  },
  {
   "cell_type": "code",
   "execution_count": 17,
   "id": "d85ef98e",
   "metadata": {},
   "outputs": [
    {
     "data": {
      "text/plain": [
       "[]"
      ]
     },
     "execution_count": 17,
     "metadata": {},
     "output_type": "execute_result"
    }
   ],
   "source": [
    "# 爬取科技報橘網站\n",
    "url2 = 'https://www.blocktempo.com/category/latest-news/'\n",
    "response2 = requests.get(url2)\n",
    "soup2 = BeautifulSoup(response2.text, 'html.parser')\n",
    "news2 = soup2.select('h3.entry-title > a')[:10]  # 取前10筆新聞\n",
    "news2"
   ]
  },
  {
   "cell_type": "code",
   "execution_count": 6,
   "id": "95a6404d",
   "metadata": {},
   "outputs": [],
   "source": [
    "# 合併新聞標題\n",
    "news = [n.text for n in news1] + [n.text for n in news2]"
   ]
  },
  {
   "cell_type": "code",
   "execution_count": 7,
   "id": "5edb9791",
   "metadata": {},
   "outputs": [],
   "source": [
    "# 定義科技相關詞彙\n",
    "tech_words = ['人工智慧', '機器學習', '區塊鏈', '物聯網', '雲端運算', '大數據', '虛擬實境']"
   ]
  },
  {
   "cell_type": "code",
   "execution_count": 8,
   "id": "78c70ac1",
   "metadata": {},
   "outputs": [],
   "source": [
    "# 篩選科技相關詞彙並斷詞\n",
    "tokens = []\n",
    "for n in news:\n",
    "    words = jieba.cut(n)\n",
    "    for w in words:\n",
    "        if re.match('.*[\\u4e00-\\u9fa5]+.*', w) and w in tech_words:\n",
    "            tokens.append(w)"
   ]
  },
  {
   "cell_type": "code",
   "execution_count": 9,
   "id": "000ee115",
   "metadata": {},
   "outputs": [
    {
     "name": "stderr",
     "output_type": "stream",
     "text": [
      "C:\\Users\\happy\\AppData\\Local\\Temp\\ipykernel_15600\\190472866.py:2: FutureWarning: The default dtype for empty Series will be 'object' instead of 'float64' in a future version. Specify a dtype explicitly to silence this warning.\n",
      "  df = pd.get_dummies(tokens)\n"
     ]
    }
   ],
   "source": [
    "# 計算詞頻並轉換為稀疏矩陣\n",
    "df = pd.get_dummies(tokens)\n",
    "co_occurrence = np.dot(df.T, df)"
   ]
  },
  {
   "cell_type": "code",
   "execution_count": 10,
   "id": "6e3ae03f",
   "metadata": {},
   "outputs": [],
   "source": [
    "# 繪製共現性網絡圖\n",
    "G = nx.Graph()\n",
    "for i, word1 in enumerate(df.columns):\n",
    "    for j, word2 in enumerate(df.columns):\n",
    "        if co_occurrence[i, j] > 0:\n",
    "            G.add_edge(word1, word2, weight=co_occurrence[i, j])"
   ]
  },
  {
   "cell_type": "code",
   "execution_count": 11,
   "id": "7223145e",
   "metadata": {},
   "outputs": [],
   "source": [
    "# 調整節點大小和顏色，以及邊線的粗細和顏色\n",
    "node_size = [df[word].sum()*10 for word in df.columns]\n",
    "node_color = [np.random.rand(3,) for i in range(len(df.columns))]\n",
    "edge_width = [d['weight']*0.2 for (u, v, d) in G.edges(data=True)]\n",
    "edge_color = [np.random.rand(3,) for i in range(len(G.edges))]"
   ]
  },
  {
   "cell_type": "code",
   "execution_count": 12,
   "id": "aa02932e",
   "metadata": {
    "scrolled": false
   },
   "outputs": [
    {
     "data": {
      "image/png": "[encoded data removed]",
      "text/plain": [
       "<Figure size 432x288 with 1 Axes>"
      ]
     },
     "metadata": {},
     "output_type": "display_data"
    }
   ],
   "source": [
    "# 繪製圖形\n",
    "pos = nx.spring_layout(G, k=0.3, iterations=50)\n",
    "nx.draw_networkx_nodes(G, pos, node_size=node_size, node_color=node_color, alpha=0.7)\n",
    "nx.draw_networkx_edges(G, pos, width=edge_width, edge_color=edge_color, alpha=0.5)\n",
    "nx.draw_networkx_labels(G, pos, font_size=12, font_family='SimHei', font_weight='bold', alpha=0.8)\n",
    "plt.axis('off')\n",
    "plt.show()"
   ]
  },
  {
   "cell_type": "code",
   "execution_count": null,
   "id": "53f106d8",
   "metadata": {},
   "outputs": [],
   "source": []
  },
  {
   "cell_type": "code",
   "execution_count": null,
   "id": "825f92aa",
   "metadata": {},
   "outputs": [],
   "source": []
  }
 ],
 "metadata": {
  "kernelspec": {
   "display_name": "Python 3 (ipykernel)",
   "language": "python",
   "name": "python3"
  },
  "language_info": {
   "codemirror_mode": {
    "name": "ipython",
    "version": 3
   },
   "file_extension": ".py",
   "mimetype": "text/x-python",
   "name": "python",
   "nbconvert_exporter": "python",
   "pygments_lexer": "ipython3",
   "version": "3.9.12"
  }
 },
 "nbformat": 4,
 "nbformat_minor": 5
}
