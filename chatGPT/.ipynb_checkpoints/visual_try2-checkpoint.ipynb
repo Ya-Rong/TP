{
 "cells": [
  {
   "cell_type": "code",
   "execution_count": null,
   "id": "fce23e1b",
   "metadata": {},
   "outputs": [],
   "source": [
    "import pandas as pd\n",
    "from collections import Counter\n",
    "orgdata = pd.read_csv(\"cooccurrence_0323.csv\", encoding = \"UTF-8\")\n",
    "orgdata.head()"
   ]
  },
  {
   "cell_type": "code",
   "execution_count": 3,
   "id": "e3df455a",
   "metadata": {},
   "outputs": [
    {
     "ename": "TypeError",
     "evalue": "'>' not supported between instances of 'str' and 'int'",
     "output_type": "error",
     "traceback": [
      "\u001b[1;31m---------------------------------------------------------------------------\u001b[0m",
      "\u001b[1;31mTypeError\u001b[0m                                 Traceback (most recent call last)",
      "Input \u001b[1;32mIn [3]\u001b[0m, in \u001b[0;36m<cell line: 21>\u001b[1;34m()\u001b[0m\n\u001b[0;32m     21\u001b[0m \u001b[38;5;28;01mfor\u001b[39;00m i \u001b[38;5;129;01min\u001b[39;00m \u001b[38;5;28mrange\u001b[39m(matrix\u001b[38;5;241m.\u001b[39mshape[\u001b[38;5;241m0\u001b[39m]):\n\u001b[0;32m     22\u001b[0m     \u001b[38;5;28;01mfor\u001b[39;00m j \u001b[38;5;129;01min\u001b[39;00m \u001b[38;5;28mrange\u001b[39m(i\u001b[38;5;241m+\u001b[39m\u001b[38;5;241m1\u001b[39m, matrix\u001b[38;5;241m.\u001b[39mshape[\u001b[38;5;241m0\u001b[39m]):\n\u001b[1;32m---> 23\u001b[0m         \u001b[38;5;28;01mif\u001b[39;00m \u001b[43mmatrix\u001b[49m\u001b[43m[\u001b[49m\u001b[43mi\u001b[49m\u001b[43m,\u001b[49m\u001b[43mj\u001b[49m\u001b[43m]\u001b[49m\u001b[43m \u001b[49m\u001b[38;5;241;43m>\u001b[39;49m\u001b[43m \u001b[49m\u001b[38;5;241;43m0\u001b[39;49m:\n\u001b[0;32m     24\u001b[0m             G\u001b[38;5;241m.\u001b[39madd_edge(nodes[i], nodes[j], weight\u001b[38;5;241m=\u001b[39mmatrix[i,j])\n\u001b[0;32m     26\u001b[0m \u001b[38;5;66;03m# 繪製網絡圖\u001b[39;00m\n",
      "\u001b[1;31mTypeError\u001b[0m: '>' not supported between instances of 'str' and 'int'"
     ]
    }
   ],
   "source": [
    "import pandas as pd\n",
    "import numpy as np\n",
    "import networkx as nx\n",
    "import matplotlib.pyplot as plt\n",
    "\n",
    "# 從 CSV 檔案載入資料到 DataFrame\n",
    "df = pd.read_csv('cooccurrence_0323.csv')\n",
    "\n",
    "# 將一維數組轉換為矩陣\n",
    "# matrix = np.reshape(df.values, (62, 62)) # 假設有 10 個節點\n",
    "matrix = df.values\n",
    "\n",
    "# 創建一個空的無向圖\n",
    "G = nx.Graph()\n",
    "\n",
    "# 添加節點\n",
    "nodes = ['node' + str(i) for i in range(matrix.shape[0])]\n",
    "G.add_nodes_from(nodes)\n",
    "\n",
    "# 添加邊\n",
    "for i in range(matrix.shape[0]):\n",
    "    for j in range(i+1, matrix.shape[0]):\n",
    "        if matrix[i,j] > 0:\n",
    "            G.add_edge(nodes[i], nodes[j], weight=matrix[i,j])\n",
    "\n",
    "# 繪製網絡圖\n",
    "pos = nx.circular_layout(G)\n",
    "nx.draw_networkx_nodes(G, pos)\n",
    "nx.draw_networkx_edges(G, pos)\n",
    "nx.draw_networkx_labels(G, pos)\n",
    "\n",
    "# 顯示繪製結果\n",
    "plt.show()"
   ]
  },
  {
   "cell_type": "code",
   "execution_count": null,
   "id": "dcff0d7a",
   "metadata": {},
   "outputs": [],
   "source": []
  }
 ],
 "metadata": {
  "kernelspec": {
   "display_name": "Python 3 (ipykernel)",
   "language": "python",
   "name": "python3"
  },
  "language_info": {
   "codemirror_mode": {
    "name": "ipython",
    "version": 3
   },
   "file_extension": ".py",
   "mimetype": "text/x-python",
   "name": "python",
   "nbconvert_exporter": "python",
   "pygments_lexer": "ipython3",
   "version": "3.9.12"
  }
 },
 "nbformat": 4,
 "nbformat_minor": 5
}
