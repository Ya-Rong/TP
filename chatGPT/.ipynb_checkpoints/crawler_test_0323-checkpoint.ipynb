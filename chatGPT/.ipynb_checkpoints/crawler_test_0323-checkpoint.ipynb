{
 "cells": [
  {
   "cell_type": "code",
   "execution_count": 2,
   "id": "5be1d122",
   "metadata": {},
   "outputs": [
    {
     "name": "stdout",
     "output_type": "stream",
     "text": [
      "Title: 鮑爾：美國擴表 3,000億美元「與貨幣政策無關」，有必要 Fed將續升息！\n",
      "Title: 比爾蓋茲宣布「AI時代」來了！點名 OpenAI GPT 成企業勝出關鍵\n",
      "Title: 拜登政府敵視加密貨幣「沒基本價值」！白宮報告：穩定幣、DeFi 有劇烈風險\n",
      "Title: 快訊》瑞銀(UBS) 擬以 10 億美元「收購瑞士信貸」！不到全盛期市值 2%\n",
      "Title: 台灣加密貨幣監管》中央社 : 行政院最快3月底公布「金管會」為主管機關\n",
      "Title: FTX重啟傳言加持》FTT大漲53%至1.75鎂！投行Jefferies傳接觸競標者\n",
      "Title: BitMEX創辦人：隨央行政策大轉向，比特幣將「漲至100萬美元」\n",
      "Title: 瑞信危機》進入關鍵時刻！UBS最晚19日敲定收購協議；貝萊德已否認競購\n",
      "Title: FTX重啟談判》投行Jefferies傳與競購方接觸！Zhu Su：FTX 2.0給債權人第二次機會\n",
      "Title: 快訊》矽谷銀行現金不足22億鎂！正式申請「第11章破產保護」\n"
     ]
    }
   ],
   "source": [
    "import requests\n",
    "from bs4 import BeautifulSoup\n",
    "\n",
    "url = 'https://www.blocktempo.com/category/latest-news/'\n",
    "response = requests.get(url)\n",
    "soup = BeautifulSoup(response.text, 'html.parser')\n",
    "\n",
    "articles = soup.select('div.jeg_posts > article')\n",
    "\n",
    "for article in articles[:50]:\n",
    "    title = article.select_one('h3.jeg_post_title > a').text.strip()\n",
    "#     date = article.select_one('div.jeg_meta_date > a').text.strip()\n",
    "    link = article.select_one('h3.jeg_post_title > a')['href']\n",
    "    \n",
    "    # Request the article page\n",
    "    article_response = requests.get(link)\n",
    "    article_soup = BeautifulSoup(article_response.text, 'html.parser')\n",
    "    \n",
    "    # Get the full content of the article\n",
    "#     content = article_soup.select_one('div.jeg_single_content').text.strip()\n",
    "    \n",
    "    print(f'Title: {title}')\n",
    "#     print(f'Date: {date}')\n",
    "#     print(f'Link: {link}')\n",
    "#     print(f'Content: {content}')\n"
   ]
  },
  {
   "cell_type": "markdown",
   "id": "90bb3b62",
   "metadata": {},
   "source": [
    "以下是一個修改後的程式碼範例，它可以獲取前 50 篇文章的標題、日期和內容：\n",
    "\n",
    "\n",
    "這個程式碼選擇所有文章的容器 div.jeg_posts > article，\n",
    "然後對每個文章選擇標題、日期和連結。\n",
    "接下來，它使用 requests.get() 函數對每個文章鏈接進行請求，\n",
    "然後使用 BeautifulSoup 從請求頁面中獲取文章的完整內容。"
   ]
  },
  {
   "cell_type": "code",
   "execution_count": null,
   "id": "b57d4c8f",
   "metadata": {},
   "outputs": [],
   "source": []
  },
  {
   "cell_type": "code",
   "execution_count": null,
   "id": "41f37897",
   "metadata": {},
   "outputs": [],
   "source": []
  },
  {
   "cell_type": "code",
   "execution_count": 4,
   "id": "2f62877a",
   "metadata": {},
   "outputs": [
    {
     "name": "stdout",
     "output_type": "stream",
     "text": [
      "Collecting selenium\n",
      "  Downloading selenium-4.8.2-py3-none-any.whl (6.9 MB)\n",
      "Collecting trio-websocket~=0.9\n",
      "  Downloading trio_websocket-0.10.2-py3-none-any.whl (17 kB)\n",
      "Requirement already satisfied: certifi>=2021.10.8 in c:\\programdata\\anaconda3\\lib\\site-packages (from selenium) (2021.10.8)\n",
      "Collecting trio~=0.17\n",
      "  Downloading trio-0.22.0-py3-none-any.whl (384 kB)\n",
      "Requirement already satisfied: urllib3[socks]~=1.26 in c:\\programdata\\anaconda3\\lib\\site-packages (from selenium) (1.26.9)\n",
      "Collecting async-generator>=1.9\n",
      "  Downloading async_generator-1.10-py3-none-any.whl (18 kB)\n",
      "Collecting outcome\n",
      "  Downloading outcome-1.2.0-py2.py3-none-any.whl (9.7 kB)\n",
      "Requirement already satisfied: sortedcontainers in c:\\programdata\\anaconda3\\lib\\site-packages (from trio~=0.17->selenium) (2.4.0)\n",
      "Requirement already satisfied: idna in c:\\programdata\\anaconda3\\lib\\site-packages (from trio~=0.17->selenium) (3.3)\n",
      "Collecting exceptiongroup>=1.0.0rc9\n",
      "  Downloading exceptiongroup-1.1.1-py3-none-any.whl (14 kB)\n",
      "Requirement already satisfied: cffi>=1.14 in c:\\programdata\\anaconda3\\lib\\site-packages (from trio~=0.17->selenium) (1.15.0)\n",
      "Requirement already satisfied: sniffio in c:\\programdata\\anaconda3\\lib\\site-packages (from trio~=0.17->selenium) (1.2.0)\n",
      "Requirement already satisfied: attrs>=19.2.0 in c:\\programdata\\anaconda3\\lib\\site-packages (from trio~=0.17->selenium) (21.4.0)\n",
      "Requirement already satisfied: pycparser in c:\\programdata\\anaconda3\\lib\\site-packages (from cffi>=1.14->trio~=0.17->selenium) (2.21)\n",
      "Collecting wsproto>=0.14\n",
      "  Downloading wsproto-1.2.0-py3-none-any.whl (24 kB)\n",
      "Requirement already satisfied: PySocks!=1.5.7,<2.0,>=1.5.6 in c:\\programdata\\anaconda3\\lib\\site-packages (from urllib3[socks]~=1.26->selenium) (1.7.1)\n",
      "Requirement already satisfied: h11<1,>=0.9.0 in c:\\programdata\\anaconda3\\lib\\site-packages (from wsproto>=0.14->trio-websocket~=0.9->selenium) (0.14.0)\n",
      "Installing collected packages: outcome, exceptiongroup, async-generator, wsproto, trio, trio-websocket, selenium\n",
      "Successfully installed async-generator-1.10 exceptiongroup-1.1.1 outcome-1.2.0 selenium-4.8.2 trio-0.22.0 trio-websocket-0.10.2 wsproto-1.2.0\n",
      "[<a href=\"https://www.blocktempo.com/powell-says-fed-considered-rate-pause/\">鮑爾：美國擴表 3,000億美元「與貨幣政策無關」，有必要 Fed將續升息！</a>, <a href=\"https://www.blocktempo.com/bill-gates-the-age-of-ai-has-begun/\">比爾蓋茲宣布「AI時代」來了！點名 OpenAI GPT 成企業勝出關鍵</a>, <a href=\"https://www.blocktempo.com/white-house-presidents-economic-report-blasts-crypto/\">拜登政府敵視加密貨幣「沒基本價值」！白宮報告：穩定幣、DeFi 有劇烈風險</a>, <a href=\"https://www.blocktempo.com/ubs-to-buy-credit-suisse-for-1-billion/\">快訊》瑞銀(UBS) 擬以 10 億美元「收購瑞士信貸」！不到全盛期市值 2%</a>, <a href=\"https://www.blocktempo.com/financial-supervisory-commission-will-regulate-taiwan-crypto-industry/\">台灣加密貨幣監管》中央社 : 行政院最快3月底公布「金管會」為主管機關</a>, <a href=\"https://www.blocktempo.com/ftt-token-soared-53-percent-beacuse-of-jefferies-acquisition-expected/\">FTX重啟傳言加持》FTT大漲53%至1.75鎂！投行Jefferies傳接觸競標者</a>, <a href=\"https://www.blocktempo.com/bimex-cofounder-arthur-hayes-says-btc-will-surpass-1-million/\">BitMEX創辦人：隨央行政策大轉向，比特幣將「漲至100萬美元」</a>, <a href=\"https://www.blocktempo.com/ubs-in-talks-to-acquire-credit-suisse/\">瑞信危機》進入關鍵時刻！UBS最晚19日敲定收購協議；貝萊德已否認競購</a>, <a href=\"https://www.blocktempo.com/jefferies-is-in-contact-with-potential-ftx-bidder-for-restart/\">FTX重啟談判》投行Jefferies傳與競購方接觸！Zhu Su：FTX 2.0給債權人第二次機會</a>, <a href=\"https://www.blocktempo.com/silicon-valley-bank-officially-files-for-chapter-11-bankruptcy-protection/\">快訊》矽谷銀行現金不足22億鎂！正式申請「第11章破產保護」</a>, <a data-num=\"01\" href=\"https://www.blocktempo.com/chatgpt-google-bard-openai/\">ChatGPT 通過 Google 三級工程師面試，年薪破 500 萬台幣！</a>, <a data-num=\"02\" href=\"https://www.blocktempo.com/ftx-hacked-tom-soong-experience-to-refund-lawyer-steaker/\">FTX受害者必讀》10年交易所維權經驗的Tom告訴你：該自己請律師？要等多久？Steaker疑點？</a>, <a data-num=\"03\" href=\"https://www.blocktempo.com/tweets-of-a-trader-lost-all-of-funds/\">一個散戶爆倉200萬美元的日記：輕生前留下「我曾以為加密貨幣能賺錢」</a>, <a href=\"https://www.blocktempo.com/github-openai-copilot-x-preview/\" property=\"url\">用嘴巴寫程式！GitHub攜手OpenAI推出智能代碼助手「Copilot Ｘ」</a>, <a href=\"https://www.blocktempo.com/lindsay-lohan-other-celebs-settle-with-sec-over-crypto-case/\" property=\"url\">幫孫宇晨打廣告！SEC 追殺琳賽蘿涵等名人「非法兜售TRX、BTT」</a>, <a href=\"https://www.blocktempo.com/id-skyrocketed-by-more-than-1500-in-a-single-day/\" property=\"url\">幣安 IEO｜Space ID 募得28.6億美元！$ID 一度暴漲 10,000%</a>]\n"
     ]
    }
   ],
   "source": [
    "!pip3 install selenium\n",
    "import time\n",
    "from selenium import webdriver\n",
    "from bs4 import BeautifulSoup\n",
    "\n",
    "url = 'https://www.blocktempo.com/category/latest-news/'\n",
    "driver = webdriver.Chrome()  # 使用 Chrome 瀏覽器\n",
    "driver.get(url)\n",
    "\n",
    "# 模擬滾動網頁\n",
    "last_height = driver.execute_script('return document.body.scrollHeight')\n",
    "while True:\n",
    "    driver.execute_script('window.scrollTo(0, document.body.scrollHeight);')\n",
    "    time.sleep(3)  # 等待網頁加載\n",
    "    new_height = driver.execute_script('return document.body.scrollHeight')\n",
    "    if new_height == last_height:\n",
    "        break\n",
    "    last_height = new_height\n",
    "\n",
    "# 解析網頁內容\n",
    "soup = BeautifulSoup(driver.page_source, 'html.parser')\n",
    "news = soup.select('h3.jeg_post_title > a')[:50]\n",
    "print(news)"
   ]
  },
  {
   "cell_type": "markdown",
   "id": "c4c1c49a",
   "metadata": {},
   "source": [
    "如果您嘗試使用滾動網頁的方法，但仍然只獲得了16篇文章，可能有以下原因：\n",
    "\n",
    "1 網頁源代碼中只包含16篇文章：即使您滾動網頁，也只能獲取到16篇文章。在這種情況下，您需要考慮其他方法來獲取更多文章，例如使用 API 或解析網頁源代碼。\n",
    "\n",
    "2 滾動網頁未能完全加載所有文章：滾動網頁可能需要一些時間才能完全加載所有文章。您可以嘗試增加等待時間，或者在每次滾動網頁之後檢查是否有更多文章加載。\n",
    "\n",
    "3 網站可能有反爬蟲機制：為了防止網絡爬蟲對網站的過度訪問，一些網站可能會實施反爬蟲機制。這些機制可能會限制每個 IP 地址的訪問速度，或者在檢測到不尋常的網絡流量時自動停止提供數據。在這種情況下，您需要調整您的爬蟲代碼以符合網站的使用條款和隱私政策。\n",
    "\n",
    "總之，要確定為什麼您只獲得了16篇文章，您需要進一步分析網站的源代碼，並考慮其他可能的原因。"
   ]
  },
  {
   "cell_type": "code",
   "execution_count": null,
   "id": "37d24d29",
   "metadata": {},
   "outputs": [],
   "source": []
  }
 ],
 "metadata": {
  "kernelspec": {
   "display_name": "Python 3 (ipykernel)",
   "language": "python",
   "name": "python3"
  },
  "language_info": {
   "codemirror_mode": {
    "name": "ipython",
    "version": 3
   },
   "file_extension": ".py",
   "mimetype": "text/x-python",
   "name": "python",
   "nbconvert_exporter": "python",
   "pygments_lexer": "ipython3",
   "version": "3.9.12"
  }
 },
 "nbformat": 4,
 "nbformat_minor": 5
}
