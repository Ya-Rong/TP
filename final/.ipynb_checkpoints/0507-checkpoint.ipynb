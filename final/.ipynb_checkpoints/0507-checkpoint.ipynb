{
 "cells": [
  {
   "cell_type": "markdown",
   "id": "4b7f1617",
   "metadata": {},
   "source": [
    "## 科技新報"
   ]
  },
  {
   "cell_type": "code",
   "execution_count": 6,
   "id": "4e5e67cc",
   "metadata": {},
   "outputs": [],
   "source": [
    "import json\n",
    "import bs4\n",
    "import os\n",
    "import urllib.request as req\n",
    "from selenium import webdriver\n",
    "import requests"
   ]
  },
  {
   "cell_type": "code",
   "execution_count": 7,
   "id": "6f30ba66",
   "metadata": {},
   "outputs": [],
   "source": [
    "def scroll(scrolltimes):\n",
    "  for i in range(scrolltimes):\n",
    "    # 每一次頁面滾動都是滑到網站最下方\n",
    "    js = 'window.scrollTo(0, document.body.scrollHeight);'\n",
    "    options.execute_script(js)\n",
    "    time.sleep(2)"
   ]
  },
  {
   "cell_type": "code",
   "execution_count": 9,
   "id": "66dcb855",
   "metadata": {},
   "outputs": [
    {
     "name": "stdout",
     "output_type": "stream",
     "text": [
      "\n"
     ]
    },
    {
     "ename": "NameError",
     "evalue": "name 'options' is not defined",
     "output_type": "error",
     "traceback": [
      "\u001b[1;31m---------------------------------------------------------------------------\u001b[0m",
      "\u001b[1;31mNameError\u001b[0m                                 Traceback (most recent call last)",
      "Input \u001b[1;32mIn [9]\u001b[0m, in \u001b[0;36m<cell line: 13>\u001b[1;34m()\u001b[0m\n\u001b[0;32m     10\u001b[0m \u001b[38;5;66;03m#prettify()>>將soup這個物件美化\u001b[39;00m\n\u001b[0;32m     11\u001b[0m \u001b[38;5;28mprint\u001b[39m(soup\u001b[38;5;241m.\u001b[39mprettify())\n\u001b[1;32m---> 13\u001b[0m \u001b[43mscroll\u001b[49m\u001b[43m(\u001b[49m\u001b[38;5;241;43m3\u001b[39;49m\u001b[43m)\u001b[49m\n",
      "Input \u001b[1;32mIn [7]\u001b[0m, in \u001b[0;36mscroll\u001b[1;34m(scrolltimes)\u001b[0m\n\u001b[0;32m      2\u001b[0m \u001b[38;5;28;01mfor\u001b[39;00m i \u001b[38;5;129;01min\u001b[39;00m \u001b[38;5;28mrange\u001b[39m(scrolltimes):\n\u001b[0;32m      3\u001b[0m   \u001b[38;5;66;03m# 每一次頁面滾動都是滑到網站最下方\u001b[39;00m\n\u001b[0;32m      4\u001b[0m   js \u001b[38;5;241m=\u001b[39m \u001b[38;5;124m'\u001b[39m\u001b[38;5;124mwindow.scrollTo(0, document.body.scrollHeight);\u001b[39m\u001b[38;5;124m'\u001b[39m\n\u001b[1;32m----> 5\u001b[0m   \u001b[43moptions\u001b[49m\u001b[38;5;241m.\u001b[39mexecute_script(js)\n\u001b[0;32m      6\u001b[0m   time\u001b[38;5;241m.\u001b[39msleep(\u001b[38;5;241m2\u001b[39m)\n",
      "\u001b[1;31mNameError\u001b[0m: name 'options' is not defined"
     ]
    }
   ],
   "source": [
    "import json\n",
    "import bs4\n",
    "import os\n",
    "import urllib.request as req\n",
    "\n",
    "import requests\n",
    "response = requests.get(\"https://member.eztravel.com.tw/auth/loginRoleCheck?secure=true&_=1683457025949\")\n",
    "#對網頁發出請求\n",
    "soup = bs4.BeautifulSoup(response.text, \"html.parser\")\n",
    "#prettify()>>將soup這個物件美化\n",
    "print(soup.prettify())\n",
    "\n",
    "scroll(3)"
   ]
  },
  {
   "cell_type": "code",
   "execution_count": 10,
   "id": "b0e511d1",
   "metadata": {},
   "outputs": [
    {
     "name": "stdout",
     "output_type": "stream",
     "text": [
      "[]\n"
     ]
    }
   ],
   "source": [
    "import json\n",
    "import bs4\n",
    "import os\n",
    "import urllib.request as req\n",
    "import requests\n",
    "\n",
    "flights = []\n",
    "\n",
    "response = requests.get(\"https://member.eztravel.com.tw/auth/loginRoleCheck?secure=true&_=1683457025949\")\n",
    "#對網頁發出請求\n",
    "soup = bs4.BeautifulSoup(response.text, \"html.parser\")\n",
    "#先幫他見一個list\n",
    "    \n",
    "#尋找要的地址位置、以及幫他放入list\n",
    "flights = soup.find_all(\"div\", class_=\"flight-single\")\n",
    "for flight in flights:\n",
    "    #flight_temp 暫時儲存資料的地方\n",
    "    flight_temp = title.a.text\n",
    "    #幫他放入list\n",
    "    flights.append(string)\n",
    "print(flights)"
   ]
  },
  {
   "cell_type": "code",
   "execution_count": 19,
   "id": "9f8a04c2",
   "metadata": {},
   "outputs": [
    {
     "name": "stdout",
     "output_type": "stream",
     "text": [
      "[]\n"
     ]
    },
    {
     "data": {
      "text/plain": [
       "[]"
      ]
     },
     "execution_count": 19,
     "metadata": {},
     "output_type": "execute_result"
    }
   ],
   "source": [
    "import requests\n",
    "from bs4 import BeautifulSoup\n",
    "\n",
    "url = 'https://member.eztravel.com.tw/auth/loginRoleCheck?secure=true&_=1683459264916'\n",
    "\n",
    "response = requests.get(url)\n",
    "soup = BeautifulSoup(response.text, 'html.parser')\n",
    "\n",
    "flights = []\n",
    "\n",
    "flight_list = soup.find_all(\"div\", class_=\"flight-list-detail\")\n",
    "\n",
    "for flight in flight_list:\n",
    "    data = {\n",
    "        'airline': flight.select_one('.airline').text.strip(),\n",
    "        'departure_time': flight.select_one('.dep-time').text.strip(),\n",
    "        'arrival_time': flight.select_one('.arr-time').text.strip(),\n",
    "        'price': flight.select_one('.price').text.strip()\n",
    "    }\n",
    "    flights.append(data)\n"
   ]
  },
  {
   "cell_type": "code",
   "execution_count": 24,
   "id": "6380d1b3",
   "metadata": {},
   "outputs": [],
   "source": [
    "import requests\n",
    "from bs4 import BeautifulSoup\n",
    "\n",
    "url = 'https://member.eztravel.com.tw/auth/loginRoleCheck?secure=true&_=1683459264916'\n",
    "\n",
    "headers = {\n",
    "    'Referer': 'https://flight.eztravel.com.tw/tickets-roundtrip-tpe-osa/?outbounddate=04%2F06%2F2023&inbounddate=10%2F06%2F2023&dport=&aport=&adults=1&children=0&infants=0&direct=false&cabintype=any&airline=&searchbox=t',\n",
    "    'User-Agent': 'Mozilla/5.0 (Windows NT 10.0; Win64; x64) AppleWebKit/537.36 (KHTML, like Gecko) Chrome/112.0.0.0 Safari/537.36',\n",
    "    'X-Requested-With': 'XMLHttpRequest'\n",
    "}\n",
    "\n",
    "payload = {\n",
    "    'tripType': 'RT',\n",
    "    'fromCity': 'TPE',\n",
    "    'toCity': 'OSA',\n",
    "    'outboundDate': '2023-04-06',\n",
    "    'inboundDate': '2023-06-10',\n",
    "    'adults': 1,\n",
    "    'children': 0,\n",
    "    'infants': 0,\n",
    "    'directOnly': False,\n",
    "    'cabinClass': 'E',\n",
    "    'currency': 'TWD'\n",
    "}\n",
    "\n",
    "response = requests.post(url, headers=headers, data=payload)\n",
    "soup = BeautifulSoup(response.text, 'html.parser')\n",
    "\n",
    "flight_list = soup.select('.flight-list-item')\n",
    "for flight in flight_list:\n",
    "    print(flight)"
   ]
  },
  {
   "cell_type": "code",
   "execution_count": 25,
   "id": "1930b490",
   "metadata": {},
   "outputs": [
    {
     "name": "stdout",
     "output_type": "stream",
     "text": [
      "[]\n"
     ]
    }
   ],
   "source": [
    "import requests\n",
    "from bs4 import BeautifulSoup\n",
    "import time\n",
    "\n",
    "url = \"https://flight.eztravel.com.tw/tickets-roundtrip-tpe-osa/?outbounddate=04%2F06%2F2023&inbounddate=10%2F06%2F2023&dport=&aport=&adults=1&children=0&infants=0&direct=false&cabintype=any&airline=&searchbox=t\"\n",
    "\n",
    "response = requests.get(url)\n",
    "soup = BeautifulSoup(response.text, \"html.parser\")\n",
    "\n",
    "time.sleep(5)\n",
    "\n",
    "flights = []\n",
    "\n",
    "flight_list = soup.find_all(\"div\", class_=\"flight-list-item\")\n",
    "for flight in flight_list:\n",
    "    airline = flight.find(\"div\", class_=\"flight-airline-name\").text.strip()\n",
    "    flight_no = flight.find(\"div\", class_=\"flight-airline-num\").text.strip()\n",
    "    departure_time = flight.find(\"div\", class_=\"flight-depart-time\").text.strip()\n",
    "    arrival_time = flight.find(\"div\", class_=\"flight-arrive-time\").text.strip()\n",
    "    duration = flight.find(\"div\", class_=\"flight-duration\").text.strip()\n",
    "    price = flight.find(\"div\", class_=\"flight-price\").text.strip()\n",
    "\n",
    "    flights.append({\n",
    "        \"airline\": airline,\n",
    "        \"flight_no\": flight_no,\n",
    "        \"departure_time\": departure_time,\n",
    "        \"arrival_time\": arrival_time,\n",
    "        \"duration\": duration,\n",
    "        \"price\": price\n",
    "    })\n",
    "\n",
    "print(flights)"
   ]
  },
  {
   "cell_type": "code",
   "execution_count": 26,
   "id": "4ce84131",
   "metadata": {},
   "outputs": [
    {
     "name": "stdout",
     "output_type": "stream",
     "text": [
      "[]\n"
     ]
    }
   ],
   "source": [
    "import requests\n",
    "from bs4 import BeautifulSoup\n",
    "import time\n",
    "\n",
    "url = 'https://flight.eztravel.com.tw/tickets-roundtrip-tpe-osa/?outbounddate=04%2F06%2F2023&inbounddate=10%2F06%2F2023&dport=&aport=&adults=1&children=0&infants=0&direct=false&cabintype=any&airline=&searchbox=t'\n",
    "\n",
    "response = requests.get(url)\n",
    "soup = BeautifulSoup(response.text, 'html.parser')\n",
    "\n",
    "# 增加等待時間\n",
    "time.sleep(5)\n",
    "\n",
    "flight_list = soup.find_all(\"div\", class_=\"flight-list-item\")\n",
    "print(flight_list)\n"
   ]
  },
  {
   "cell_type": "code",
   "execution_count": null,
   "id": "3b0f2eed",
   "metadata": {},
   "outputs": [],
   "source": [
    "\n",
    "for page in range(1, 31):  # 執行1~3頁\n",
    "    response = requests.get(\"https://technews.tw/page/\"+ str(page)+\"/\")\n",
    "#對網頁發出請求\n",
    "    soup = bs4.BeautifulSoup(response.text, \"html.parser\")\n",
    "#先幫他見一個list\n",
    "    \n",
    "#尋找要的地址位置、以及幫他放入list\n",
    "    titles = soup.find_all(\"h1\", class_=\"entry-title\")\n",
    "    for title in titles:\n",
    "    #title_temp 暫時儲存資料的地方\n",
    "        title_temp = title.a.text\n",
    "        \n",
    "        #######給我把那個可惡的/刪掉！！！！\n",
    "        string = ''\n",
    "        for char in title_temp:\n",
    "            if 47 != ord(char):#用ASCII找 https://www.ascii-code.com/\n",
    "                string += char \n",
    "        #幫他放入list\n",
    "        title_list2.append(string)\n",
    "#     print(title_list2)\n",
    "    print(f\"====================第{str(page)}頁====================\")"
   ]
  }
 ],
 "metadata": {
  "kernelspec": {
   "display_name": "Python 3 (ipykernel)",
   "language": "python",
   "name": "python3"
  },
  "language_info": {
   "codemirror_mode": {
    "name": "ipython",
    "version": 3
   },
   "file_extension": ".py",
   "mimetype": "text/x-python",
   "name": "python",
   "nbconvert_exporter": "python",
   "pygments_lexer": "ipython3",
   "version": "3.9.12"
  }
 },
 "nbformat": 4,
 "nbformat_minor": 5
}
